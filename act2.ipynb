{
 "cells": [
  {
   "cell_type": "markdown",
   "metadata": {},
   "source": [
    "## Actividad 2: Principios SOLID aplicados - habitacion_hotel.py\n",
    "\n",
    "En esta actividad, se presenta un problema que ya hemos resuelto en clase en un parcial anterior. Sin embargo, la implementación actual no es la más eficiente y ha resultado ser compleja y redundante, especialmente al acceder a los costos de los diferentes servicios debido a la dependencia de objetos concretos sin el uso adecuado de abstracciones.\n",
    "\n",
    "Tu tarea consiste en modificar el código existente utilizando un patrón de diseño y aplicando un principio SOLID, con el objetivo de mejorar su legibilidad y eficiencia. Al finalizar, incluye comentarios en el código que expliquen qué patrón o principio SOLID has aplicado, los cambios principales que realizaste y cómo funciona ahora tu implementación."
   ]
  },
  {
   "cell_type": "code",
   "execution_count": 1,
   "metadata": {},
   "outputs": [
    {
     "name": "stdout",
     "output_type": "stream",
     "text": [
      "Nombre del hotel: Hotel California\n",
      "Generando reservación para habitación 13 con capacidad para 4 personas.\n",
      "Restaurante Calamardo, costo adicional $100 por persona.\n",
      "Acceso a Spa Manotas, costo adicional $50 por día.\n"
     ]
    }
   ],
   "source": [
    "from abc import ABC, abstractmethod\n",
    "\n",
    "# Interfaz ServicioAdicional (patrón Estrategia)\n",
    "class ServicioAdicional(ABC):\n",
    "    def __init__(self, nombre, costo):\n",
    "        self.nombre = nombre\n",
    "        self.costo = costo\n",
    "    \n",
    "    @abstractmethod\n",
    "    def ofrecer(self):\n",
    "        pass\n",
    "\n",
    "# Servicios concretos que implementan la interfaz ServicioAdicional\n",
    "class Restaurante(ServicioAdicional):\n",
    "    def ofrecer(self):\n",
    "        print(f\"Restaurante {self.nombre}, costo adicional ${self.costo} por persona.\")\n",
    "\n",
    "class Spa(ServicioAdicional):\n",
    "    def ofrecer(self):\n",
    "        print(f\"Acceso a Spa {self.nombre}, costo adicional ${self.costo} por día.\")\n",
    "\n",
    "# Clase Habitacion\n",
    "class Habitacion:\n",
    "    def __init__(self, numero, capacidad):\n",
    "        self.numero = numero\n",
    "        self.capacidad = capacidad\n",
    "\n",
    "    def reservar(self):\n",
    "        print(f\"Generando reservación para habitación {self.numero} con capacidad para {self.capacidad} personas.\")\n",
    "\n",
    "# Clase Hotel, ahora puede manejar servicios adicionales de manera más flexible\n",
    "class Hotel(Habitacion):\n",
    "    def __init__(self, numero, capacidad, nombre_hotel):\n",
    "        super().__init__(numero, capacidad)\n",
    "        self.nombre_hotel = nombre_hotel\n",
    "        self.servicios = []  # Lista de servicios adicionales\n",
    "\n",
    "    # Método para agregar un servicio adicional\n",
    "    def agregar_servicio(self, servicio: ServicioAdicional):\n",
    "        self.servicios.append(servicio)\n",
    "\n",
    "    def generar_reserva(self):\n",
    "        print(f'Nombre del hotel: {self.nombre_hotel}')\n",
    "        self.reservar()\n",
    "        for servicio in self.servicios:\n",
    "            servicio.ofrecer()\n",
    "\n",
    "# Ejemplos\n",
    "hotel_california = Hotel('13', 4, 'Hotel California')\n",
    "hotel_california.agregar_servicio(Restaurante('Calamardo', 100))\n",
    "hotel_california.agregar_servicio(Spa('Manotas', 50))\n",
    "\n",
    "hotel_california.generar_reserva()\n"
   ]
  }
 ],
 "metadata": {
  "kernelspec": {
   "display_name": "Python 3",
   "language": "python",
   "name": "python3"
  },
  "language_info": {
   "codemirror_mode": {
    "name": "ipython",
    "version": 3
   },
   "file_extension": ".py",
   "mimetype": "text/x-python",
   "name": "python",
   "nbconvert_exporter": "python",
   "pygments_lexer": "ipython3",
   "version": "3.12.5"
  }
 },
 "nbformat": 4,
 "nbformat_minor": 2
}
