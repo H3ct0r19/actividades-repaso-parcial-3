{
 "cells": [
  {
   "cell_type": "markdown",
   "metadata": {},
   "source": [
    "## Actividad 2: Principios SOLID aplicados - habitacion_hotel.py\n",
    "\n",
    "En esta actividad, se presenta un problema que ya hemos resuelto en clase en un parcial anterior. Sin embargo, la implementación actual no es la más eficiente y ha resultado ser compleja y redundante, especialmente al acceder a los costos de los diferentes servicios debido a la dependencia de objetos concretos sin el uso adecuado de abstracciones.\n",
    "\n",
    "Tu tarea consiste en modificar el código existente utilizando un patrón de diseño y aplicando un principio SOLID, con el objetivo de mejorar su legibilidad y eficiencia. Al finalizar, incluye comentarios en el código que expliquen qué patrón o principio SOLID has aplicado, los cambios principales que realizaste y cómo funciona ahora tu implementación."
   ]
  },
  {
   "cell_type": "code",
   "execution_count": 2,
   "metadata": {},
   "outputs": [
    {
     "name": "stdout",
     "output_type": "stream",
     "text": [
      "Nombre del hotel: Hotel California\n",
      "Generando reservación para habitación 13 con capacidad para 4 personas.\n",
      "Restaurante Calamardo, costo adicional $100 por persona.\n",
      "Acceso a Spa Manotas, costo adicional $50 por día.\n"
     ]
    }
   ],
   "source": [
    "from abc import ABC, abstractmethod\n",
    "\n",
    "# Estrategia Abstracta: Define la interfaz común para todos los servicios adicionales\n",
    "class ServicioAdicional(ABC):\n",
    "    def __init__(self, nombre, costo):\n",
    "        self.nombre = nombre  # Nombre del servicio adicional\n",
    "        self.costo = costo  # Costo del servicio adicional\n",
    "    \n",
    "    @abstractmethod\n",
    "    def ofrecer(self):\n",
    "        # Método abstracto que será implementado por cada servicio concreto\n",
    "        pass\n",
    "\n",
    "# Estrategias Concretas: Implementan la interfaz definida por la estrategia abstracta\n",
    "class Restaurante(ServicioAdicional):\n",
    "    def ofrecer(self):\n",
    "        # Implementación específica para el servicio de restaurante\n",
    "        print(f\"Restaurante {self.nombre}, costo adicional ${self.costo} por persona.\")\n",
    "\n",
    "class Spa(ServicioAdicional):\n",
    "    def ofrecer(self):\n",
    "        # Implementación específica para el servicio de spa\n",
    "        print(f\"Acceso a Spa {self.nombre}, costo adicional ${self.costo} por día.\")\n",
    "\n",
    "# Clase Habitacion: Representa una habitación genérica\n",
    "class Habitacion:\n",
    "    def __init__(self, numero, capacidad):\n",
    "        self.numero = numero  # Número de la habitación\n",
    "        self.capacidad = capacidad  # Capacidad máxima de la habitación\n",
    "\n",
    "    def reservar(self):\n",
    "        # Lógica para realizar la reserva de una habitación\n",
    "        print(f\"Generando reservación para habitación {self.numero} con capacidad para {self.capacidad} personas.\")\n",
    "\n",
    "# Contexto: Clase Hotel que coordina las habitaciones y servicios adicionales\n",
    "class Hotel(Habitacion):\n",
    "    def __init__(self, numero, capacidad, nombre_hotel):\n",
    "        super().__init__(numero, capacidad)\n",
    "        self.nombre_hotel = nombre_hotel  # Nombre del hotel\n",
    "        self.servicios = []  # Lista de servicios adicionales\n",
    "\n",
    "    # Permite agregar nuevas estrategias (servicios adicionales)\n",
    "    def agregar_servicio(self, servicio: ServicioAdicional):\n",
    "        self.servicios.append(servicio)  # Agrega un servicio adicional a la lista\n",
    "\n",
    "    def generar_reserva(self):\n",
    "        # Lógica para generar una reserva incluyendo los servicios adicionales\n",
    "        print(f'Nombre del hotel: {self.nombre_hotel}')\n",
    "        self.reservar()  # Reserva la habitación\n",
    "        for servicio in self.servicios:\n",
    "            servicio.ofrecer()  # Ofrece cada servicio adicional\n",
    "\n",
    "# Ejemplo de uso del código con el patrón Estrategia\n",
    "hotel_california = Hotel('13', 4, 'Hotel California')  # Instancia del hotel\n",
    "hotel_california.agregar_servicio(Restaurante('Calamardo', 100))  # Agrega el servicio de restaurante\n",
    "hotel_california.agregar_servicio(Spa('Manotas', 50))  # Agrega el servicio de spa\n",
    "\n",
    "hotel_california.generar_reserva()  # Genera la reserva con los servicios adicionales\n"
   ]
  }
 ],
 "metadata": {
  "kernelspec": {
   "display_name": "Python 3",
   "language": "python",
   "name": "python3"
  },
  "language_info": {
   "codemirror_mode": {
    "name": "ipython",
    "version": 3
   },
   "file_extension": ".py",
   "mimetype": "text/x-python",
   "name": "python",
   "nbconvert_exporter": "python",
   "pygments_lexer": "ipython3",
   "version": "3.12.5"
  }
 },
 "nbformat": 4,
 "nbformat_minor": 2
}
