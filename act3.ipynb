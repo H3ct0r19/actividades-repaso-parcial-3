{
 "cells": [
  {
   "cell_type": "markdown",
   "metadata": {},
   "source": [
    "# Actividad 3: Uso de interfaces y métodos - decorator.py\n",
    "\n",
    "En el código siguiente, a partir de la interfaz Componente base y ObjetoConcreto, declara una interfaz formal para un Patrón Decorator Base e declara dos decoradores: SoporteGmail y SoporteFacebook. Utiliza como referencia los ejemplos de Decorator presentados en clase al revisar el tema de Patrones de Diseño.\n",
    "\n",
    "Recuerda que en este patrón, los decoradores tienen un método, en el cual mandan a llamar el método correspondiente al objeto concreto (en este caso, la clase Autenticacion), pero le dan un manejo único, distinto al objeto concreto.\n"
   ]
  },
  {
   "cell_type": "code",
   "execution_count": 1,
   "metadata": {},
   "outputs": [
    {
     "name": "stdout",
     "output_type": "stream",
     "text": [
      "[SoporteGmail] Validando credenciales en Gmail...\n",
      "Iniciando sesión con el usuario: usuario1@gmail.com desde el autenticador base\n",
      "[SoporteGmail] Inicio de sesión exitoso en Gmail\n",
      "--------------------------------------------------\n",
      "[SoporteFacebook] Validando credenciales en Facebook...\n",
      "[SoporteFacebook] Error: Usuario no compatible con Facebook\n"
     ]
    }
   ],
   "source": [
    "from abc import ABC, abstractmethod\n",
    "\n",
    "# Interfaz base\n",
    "class Auth(ABC):\n",
    "    @abstractmethod\n",
    "    def iniciarSesion(self, usuario, password):\n",
    "        pass\n",
    "\n",
    "# Objeto concreto\n",
    "class Autenticacion(Auth):\n",
    "    def iniciarSesion(self, usuario, password):\n",
    "        print(f\"Iniciando sesión con el usuario: {usuario} desde el autenticador base\")\n",
    "\n",
    "# Decorador base\n",
    "class DecoradorAuth(Auth):\n",
    "    def __init__(self, autenticador):\n",
    "        self.autenticador = autenticador\n",
    "\n",
    "    def iniciarSesion(self, usuario, password):\n",
    "        self.autenticador.iniciarSesion(usuario, password)\n",
    "\n",
    "# Decorador concreto: Soporte Gmail\n",
    "class SoporteGmail(DecoradorAuth):\n",
    "    def iniciarSesion(self, usuario, password):\n",
    "        print(\"[SoporteGmail] Validando credenciales en Gmail...\")\n",
    "        if usuario.endswith(\"@gmail.com\"):\n",
    "            self.autenticador.iniciarSesion(usuario, password)\n",
    "            print(\"[SoporteGmail] Inicio de sesión exitoso en Gmail\")\n",
    "        else:\n",
    "            print(\"[SoporteGmail] Error: El correo no pertenece a Gmail\")\n",
    "\n",
    "# Decorador concreto: Soporte Facebook\n",
    "class SoporteFacebook(DecoradorAuth):\n",
    "    def iniciarSesion(self, usuario, password):\n",
    "        print(\"[SoporteFacebook] Validando credenciales en Facebook...\")\n",
    "        if \"facebook\" in usuario.lower():\n",
    "            self.autenticador.iniciarSesion(usuario, password)\n",
    "            print(\"[SoporteFacebook] Inicio de sesión exitoso en Facebook\")\n",
    "        else:\n",
    "            print(\"[SoporteFacebook] Error: Usuario no compatible con Facebook\")\n",
    "\n",
    "# Uso del patrón Decorator\n",
    "if __name__ == \"__main__\":\n",
    "    autenticador = Autenticacion()\n",
    "\n",
    "    # Soporte para Gmail\n",
    "    authgmail = SoporteGmail(autenticador)\n",
    "    authgmail.iniciarSesion(\"usuario1@gmail.com\", \"pass789\")\n",
    "    print(\"-\" * 50)\n",
    "\n",
    "    # Soporte para Facebook\n",
    "    authfacebook = SoporteFacebook(autenticador)\n",
    "    authfacebook.iniciarSesion(\"nombredeusuario123\", \"pass456\")\n"
   ]
  }
 ],
 "metadata": {
  "kernelspec": {
   "display_name": "Python 3",
   "language": "python",
   "name": "python3"
  },
  "language_info": {
   "codemirror_mode": {
    "name": "ipython",
    "version": 3
   },
   "file_extension": ".py",
   "mimetype": "text/x-python",
   "name": "python",
   "nbconvert_exporter": "python",
   "pygments_lexer": "ipython3",
   "version": "3.12.5"
  }
 },
 "nbformat": 4,
 "nbformat_minor": 2
}
