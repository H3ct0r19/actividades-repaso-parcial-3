{
 "cells": [
  {
   "cell_type": "markdown",
   "metadata": {},
   "source": [
    "## Actividad 1: cuenta_bancaria.py\n",
    "\n",
    "Crea una clase CuentaBancaria que tenga diferentes constructores para inicializar la cuenta:\n",
    "* Con solo un número de cuenta\n",
    "* Con un número de cuenta y un saldo inicial.\n",
    "* Con un número de cuenta, saldo inicial y tipo de cuenta (ahorros, corriente).\n",
    "Utiliza los métodos mágicos __new__, y las @classmethods para elaborar los diferentes creadores condicionales de tus instancias. Utiliza los *args o los **kwargs para obtener la cantidad de argumentos administrada al constructor par realizar tus creadores condicionales. \n",
    "Una vez las hayas declarado, crea una instancia de ejemplo por cada uno, utilizando la misma clase CuentaBancaria.\n",
    "Nota: No uses el constructor __init__"
   ]
  },
  {
   "cell_type": "code",
   "execution_count": 1,
   "metadata": {},
   "outputs": [
    {
     "name": "stdout",
     "output_type": "stream",
     "text": [
      "CuentaBancaria(\n",
      "  Número: 12345,\n",
      "  Saldo: 0,\n",
      "  Tipo: No especificado\n",
      ")\n",
      "CuentaBancaria(\n",
      "  Número: 67890,\n",
      "  Saldo: 1000,\n",
      "  Tipo: No especificado\n",
      ")\n",
      "CuentaBancaria(\n",
      "  Número: 11223,\n",
      "  Saldo: 5000,\n",
      "  Tipo: Ahorros\n",
      ")\n"
     ]
    }
   ],
   "source": [
    "class CuentaBancaria:\n",
    "    def __new__(cls, *args, **kwargs):\n",
    "        # Usamos __new__ para asegurarnos de que se cree la instancia sin __init__\n",
    "        instance = super().__new__(cls)\n",
    "        return instance\n",
    "\n",
    "    @classmethod\n",
    "    def crear_con_numero(cls, numero):\n",
    "        \"\"\"Crea una cuenta con solo el número de cuenta.\"\"\"\n",
    "        instance = cls(numero=numero)\n",
    "        instance.numero_cuenta = numero\n",
    "        instance.saldo = 0\n",
    "        instance.tipo_cuenta = \"No especificado\"\n",
    "        return instance\n",
    "\n",
    "    @classmethod\n",
    "    def crear_con_numero_y_saldo(cls, numero, saldo):\n",
    "        \"\"\"Crea una cuenta con número de cuenta y saldo inicial.\"\"\"\n",
    "        instance = cls(numero=numero, saldo=saldo)\n",
    "        instance.numero_cuenta = numero\n",
    "        instance.saldo = saldo\n",
    "        instance.tipo_cuenta = \"No especificado\"\n",
    "        return instance\n",
    "\n",
    "    @classmethod\n",
    "    def crear_completa(cls, numero, saldo, tipo_cuenta):\n",
    "        \"\"\"Crea una cuenta con número de cuenta, saldo inicial y tipo de cuenta.\"\"\"\n",
    "        instance = cls(numero=numero, saldo=saldo, tipo_cuenta=tipo_cuenta)\n",
    "        instance.numero_cuenta = numero\n",
    "        instance.saldo = saldo\n",
    "        instance.tipo_cuenta = tipo_cuenta\n",
    "        return instance\n",
    "\n",
    "    def __str__(self):\n",
    "        return (f\"CuentaBancaria(\\n\"\n",
    "                f\"  Número: {self.numero_cuenta},\\n\"\n",
    "                f\"  Saldo: {self.saldo},\\n\"\n",
    "                f\"  Tipo: {self.tipo_cuenta}\\n)\")\n",
    "\n",
    "# Crear instancias de ejemplo\n",
    "cuenta1 = CuentaBancaria.crear_con_numero(12345)\n",
    "cuenta2 = CuentaBancaria.crear_con_numero_y_saldo(67890, 1000)\n",
    "cuenta3 = CuentaBancaria.crear_completa(11223, 5000, \"Ahorros\")\n",
    "\n",
    "# Mostrar las cuentas creadas\n",
    "print(cuenta1)\n",
    "print(cuenta2)\n",
    "print(cuenta3)\n"
   ]
  }
 ],
 "metadata": {
  "kernelspec": {
   "display_name": "Python 3",
   "language": "python",
   "name": "python3"
  },
  "language_info": {
   "codemirror_mode": {
    "name": "ipython",
    "version": 3
   },
   "file_extension": ".py",
   "mimetype": "text/x-python",
   "name": "python",
   "nbconvert_exporter": "python",
   "pygments_lexer": "ipython3",
   "version": "3.12.5"
  }
 },
 "nbformat": 4,
 "nbformat_minor": 2
}
